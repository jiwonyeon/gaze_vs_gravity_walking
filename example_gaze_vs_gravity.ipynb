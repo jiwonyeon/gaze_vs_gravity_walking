{
 "cells": [
  {
   "cell_type": "code",
   "execution_count": 1,
   "metadata": {},
   "outputs": [],
   "source": [
    "import os, glob, json \n",
    "import numpy as np \n",
    "import pandas as pd \n",
    "import matplotlib.pyplot as plt \n",
    "import sys \n",
    "sys.path.append('./helper')"
   ]
  },
  {
   "cell_type": "code",
   "execution_count": 3,
   "metadata": {},
   "outputs": [],
   "source": [
    "# point the example data \n",
    "data_dir = glob.glob('/mnt/HDD/jiwon/2024_spring_pilot/sub105/sub105_walking+memory*')[0]"
   ]
  },
  {
   "cell_type": "markdown",
   "metadata": {},
   "source": [
    "### Calibrate gaze points"
   ]
  },
  {
   "cell_type": "code",
   "execution_count": 10,
   "metadata": {},
   "outputs": [
    {
     "name": "stdout",
     "output_type": "stream",
     "text": [
      "gaze_calibrated.csv is existing already. Skipping this procedure.\n"
     ]
    }
   ],
   "source": [
    "# load transformation parameters and transform data \n",
    "import skimage.transform as tf\n",
    "\n",
    "saving_dir = data_dir + '/gaze_calibrated.csv'\n",
    "# if the gaze_calibrated.csv is existing, skip this part \n",
    "if not os.path.exists(saving_dir): \n",
    "    params_dir = os.path.dirname(data_dir) + '/gaze_calibration_params.json'\n",
    "    with open(params_dir, 'r') as file:\n",
    "        params = json.load(file)\n",
    "\n",
    "    gazes = pd.read_csv(data_dir + '/gaze.csv')\n",
    "\n",
    "    # convert gazes in visual angle \n",
    "    matrix_deg = tf.AffineTransform(matrix = params['tf_matrix_deg'])\n",
    "    transformed = matrix_deg(gazes[['azimuth [deg]', 'elevation [deg]']].values)\n",
    "    gazes['gaze x [deg]'] = transformed[:,0]\n",
    "    gazes['gaze y [deg]'] = transformed[:,1]\n",
    "\n",
    "    # drop azimuth and elevation \n",
    "    gazes.drop(columns = ['azimuth [deg]', 'elevation [deg]'])\n",
    "\n",
    "    # convert gazes in px \n",
    "    matrix_px = tf.AffineTransform(matrix = params['tf_matrix_px'])\n",
    "    transformed = matrix_px(gazes[['gaze x [px]', 'gaze y [px]']].values)\n",
    "    gazes['gaze x [px]'] = transformed[:,0]\n",
    "    gazes['gaze y [px]'] = transformed[:,1]\n",
    "\n",
    "    # save gazes \n",
    "    gazes.to_csv(saving_dir)\n",
    "\n",
    "else:\n",
    "    print(f'{os.path.basename(saving_dir)} is existing already. Load the data...')\n",
    "    gazes = pd.read_csv(saving_dir)\n"
   ]
  },
  {
   "cell_type": "markdown",
   "metadata": {},
   "source": [
    "### Exclude gaze points that are not saccade or blinks"
   ]
  },
  {
   "cell_type": "code",
   "execution_count": 13,
   "metadata": {},
   "outputs": [],
   "source": [
    "# create blink mask \n",
    "blinks = pd.read_csv(data_dir +'/blinks.csv')\n",
    "is_blink = np.zeros(len(gazes), dtype=bool)\n",
    "\n",
    "for b in range(len(blinks)):\n",
    "    start_time = blinks.loc[b, 'start timestamp [ns]']\n",
    "    end_time = blinks.loc[b, 'end timestamp [ns]']\n",
    "    \n",
    "    # find timestamps that fall within this blink's time range\n",
    "    is_in_blink = (gazes['timestamp [ns]'] >= start_time) & (gazes['timestamp [ns]'] <= end_time)\n",
    "    \n",
    "    # set mask to false for timestmpas during blinks \n",
    "    is_blink[is_in_blink] = True\n",
    "    \n"
   ]
  },
  {
   "cell_type": "code",
   "execution_count": null,
   "metadata": {},
   "outputs": [],
   "source": [
    "# create main_sequence mask \n"
   ]
  },
  {
   "cell_type": "markdown",
   "metadata": {},
   "source": [
    "### Compute world gaze and gaze angle"
   ]
  },
  {
   "cell_type": "code",
   "execution_count": 13,
   "metadata": {},
   "outputs": [],
   "source": [
    "import gaze_angle_relative_to_gravity as gg \n",
    "\n",
    "root_dir = glob.glob('/mnt/HDD/jiwon/2024_spring_pilot/sub105/*walking+memory*')[0] + '/'\n",
    "gaze_file = 'gaze.csv'\n",
    "\n",
    "world_gaze = gg.get_world_gaze(root_dir, gaze_file)\n"
   ]
  },
  {
   "cell_type": "code",
   "execution_count": 17,
   "metadata": {},
   "outputs": [],
   "source": [
    "angle_ = gg.get_gaze_angle_relative_to_gravity(world_gaze)"
   ]
  },
  {
   "cell_type": "markdown",
   "metadata": {},
   "source": [
    "### Use event file to segment the gaze angle data by the locations"
   ]
  },
  {
   "cell_type": "code",
   "execution_count": null,
   "metadata": {},
   "outputs": [],
   "source": []
  }
 ],
 "metadata": {
  "kernelspec": {
   "display_name": "jiwon_pupil",
   "language": "python",
   "name": "python3"
  },
  "language_info": {
   "codemirror_mode": {
    "name": "ipython",
    "version": 3
   },
   "file_extension": ".py",
   "mimetype": "text/x-python",
   "name": "python",
   "nbconvert_exporter": "python",
   "pygments_lexer": "ipython3",
   "version": "3.12.8"
  }
 },
 "nbformat": 4,
 "nbformat_minor": 2
}
