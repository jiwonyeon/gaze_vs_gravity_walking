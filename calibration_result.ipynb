{
 "cells": [
  {
   "cell_type": "code",
   "execution_count": 34,
   "metadata": {},
   "outputs": [],
   "source": [
    "import numpy as np \n",
    "import pandas as pd\n",
    "import skimage.transform as tf\n",
    "import glob, os, json\n",
    "\n"
   ]
  },
  {
   "cell_type": "code",
   "execution_count": 35,
   "metadata": {},
   "outputs": [],
   "source": [
    "sub_folders = glob.glob('/mnt/HDD/jiwon/2024_spring_pilot/sub*')\n",
    "offset_pre = []\n",
    "offset_post = []\n",
    "\n",
    "for sub_folder in sub_folders:\n",
    "    calibration_folders = glob.glob(sub_folder +'/sub*_calibration*')\n",
    "    sub_offset_pre = []\n",
    "    sub_offset_post = []\n",
    "    for data_dir in calibration_folders:\n",
    "        gaze_vs_target = pd.read_csv(data_dir + '/gaze_vs_target.csv')\n",
    "\n",
    "        # for each trial, grab the median x, y positions of one fifth of the data \n",
    "        trials = gaze_vs_target['trial id'].unique()\n",
    "        gazes = []\n",
    "        targets = []\n",
    "        for t in trials:\n",
    "            trial_data = gaze_vs_target.loc[gaze_vs_target['trial id']==t]\n",
    "            trial_length = len(trial_data)\n",
    "            gaze_pos = trial_data[['gaze x [deg]', 'gaze y [deg]']].iloc[-round(1/5):].median().values\n",
    "            target_pos = trial_data[['target x [deg]', 'target y [deg]']].iloc[-round(1/5):].median().values\n",
    "            gazes.append(gaze_pos)\n",
    "            targets.append(target_pos)\n",
    "\n",
    "        # compute offset before transformation \n",
    "        sub_offset_pre.append(np.mean(np.linalg.norm(np.array(gazes) - np.array(targets), axis=1)))\n",
    "\n",
    "        # load parameter for transformation \n",
    "        params_dir = os.path.dirname(data_dir) + '/gaze_calibration_params.json'\n",
    "        with open(params_dir, 'r') as file:\n",
    "            params = json.load(file)\n",
    "\n",
    "        # transform gazes \n",
    "        matrix_deg = tf.AffineTransform(matrix = params['tf_matrix_deg'])\n",
    "        transformed = matrix_deg(gazes)\n",
    "\n",
    "        # compute post transformation offset\n",
    "        sub_offset_post.append(np.mean(np.linalg.norm(transformed - np.array(targets), axis=1)))\n",
    "    \n",
    "    # average within subject\n",
    "    offset_pre.append(np.mean(sub_offset_pre))\n",
    "    offset_post.append(np.mean(sub_offset_post))\n",
    "    \n",
    "\n"
   ]
  },
  {
   "cell_type": "code",
   "execution_count": 37,
   "metadata": {},
   "outputs": [
    {
     "data": {
      "text/plain": [
       "-1.3234157200158827"
      ]
     },
     "execution_count": 37,
     "metadata": {},
     "output_type": "execute_result"
    }
   ],
   "source": [
    "np.mean(offset_post) - np.mean(offset_pre)"
   ]
  },
  {
   "cell_type": "code",
   "execution_count": null,
   "metadata": {},
   "outputs": [],
   "source": []
  }
 ],
 "metadata": {
  "kernelspec": {
   "display_name": "jiwon_pupil",
   "language": "python",
   "name": "python3"
  },
  "language_info": {
   "codemirror_mode": {
    "name": "ipython",
    "version": 3
   },
   "file_extension": ".py",
   "mimetype": "text/x-python",
   "name": "python",
   "nbconvert_exporter": "python",
   "pygments_lexer": "ipython3",
   "version": "3.12.8"
  }
 },
 "nbformat": 4,
 "nbformat_minor": 2
}
